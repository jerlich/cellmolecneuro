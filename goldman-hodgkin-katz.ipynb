{
 "cells": [
  {
   "cell_type": "code",
   "execution_count": 30,
   "metadata": {},
   "outputs": [],
   "source": [
    "import math\n",
    "import matplotlib.pyplot as plt\n",
    "import numpy as np\n",
    "from matplotlib import rc\n",
    "rc('font',**{'family':'serif','serif':['Times'],'size':16})\n",
    "## for Palatino and other serif fonts use:\n",
    "#rc('font',**{'family':'serif','serif':['Palatino']})\n",
    "rc('text', usetex=True)\n"
   ]
  },
  {
   "cell_type": "code",
   "execution_count": 11,
   "metadata": {},
   "outputs": [],
   "source": [
    "def dotprod(a,b):\n",
    "    '''\n",
    "        Computes the inner or dot product of two lists without using numpy (and faster!) \n",
    "    '''\n",
    "    return sum([x[0]*x[1] for x in zip(a, b)])\n",
    "\n",
    "def ghk(Cin, Cout, P, T = 298):\n",
    "    '''\n",
    "        Takes a list of concentrations in/out of the cell and a list of permeabilities \n",
    "        and computes the Equilibrium Potential for that channel in Volts.\n",
    "        Optionally pass in temperature as T.\n",
    "        \n",
    "        Assumes all ions are +1. If any ion is -1 then flip the Cin and Cout for that ion.\n",
    "        e.g. \n",
    "        Nain = 10\n",
    "        Naout = 100\n",
    "        Clin = 20\n",
    "        Clout = 80\n",
    "        Cellin = [Nain, Clout]\n",
    "        Cellout = [Naout, Clin]\n",
    "        ghk(Cellin, Cellout, [1,1])\n",
    "    '''\n",
    "    R = 8.314 # J/K-mol, Gas Constant\n",
    "    F = 9.65e4 # C/mol\n",
    "    return R*T/F*math.log(dotprod(P,Cout) / dotprod(P,Cin))"
   ]
  },
  {
   "cell_type": "code",
   "execution_count": 25,
   "metadata": {},
   "outputs": [
    {
     "name": "stdout",
     "output_type": "stream",
     "text": [
      "Resting Cell Membrane is around -58.61 mV\n"
     ]
    }
   ],
   "source": [
    "CellIn = [14, 120] #Na+, K+\n",
    "CellOut = [140, 3] #Na+, K+\n",
    "P = [1, 15] #Na+, K+\n",
    "Vm = ghk(CellIn, CellOut, P)\n",
    "print('Resting Cell Membrane is around {:.02f} mV'.format(Vm*1000))\n"
   ]
  },
  {
   "cell_type": "markdown",
   "metadata": {},
   "source": [
    "Let's see how the resting membrane potential changes as the scale the relative concentration of Na+ and K+."
   ]
  },
  {
   "cell_type": "code",
   "execution_count": 32,
   "metadata": {},
   "outputs": [
    {
     "data": {
      "image/png": "[encoded data removed]",
      "text/plain": [
       "<Figure size 432x288 with 1 Axes>"
      ]
     },
     "metadata": {
      "needs_background": "light"
     },
     "output_type": "display_data"
    }
   ],
   "source": [
    "scale = np.exp(np.linspace(-10,10,1000))\n",
    "Vm = [1000*ghk([14*x, 120], [140*x, 3], [1, 15]) for x in scale]\n",
    "plt.plot(scale, Vm)\n",
    "plt.xscale('log')\n",
    "plt.xlabel('Ratio of Na+ to K+')\n",
    "plt.ylabel('$V_m$ (mV)')\n",
    "plt.show()"
   ]
  },
  {
   "cell_type": "markdown",
   "metadata": {},
   "source": [
    "Cool! So we see that if we keep the in/out ratios of both Na+ and K+ the same, but change the overall ratio of K+ and Na+ we move the resting membrane potential from $E_k = -90mV$ to $E_{Na} = 60mV$.\n",
    "\n",
    "We can do a similar exercise with the permeability to see what how that will influence $V_m$.\n"
   ]
  }
 ],
 "metadata": {
  "kernelspec": {
   "display_name": "Python 3",
   "language": "python",
   "name": "python3"
  },
  "language_info": {
   "codemirror_mode": {
    "name": "ipython",
    "version": 3
   },
   "file_extension": ".py",
   "mimetype": "text/x-python",
   "name": "python",
   "nbconvert_exporter": "python",
   "pygments_lexer": "ipython3",
   "version": "3.7.4"
  }
 },
 "nbformat": 4,
 "nbformat_minor": 2
}
